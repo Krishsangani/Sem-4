{
 "cells": [
  {
   "cell_type": "markdown",
   "metadata": {},
   "source": [
    "<a href='https://www.darshan.ac.in/'> <img src='https://www.darshan.ac.in/Content/media/DU_Logo.svg' width=\"250\" height=\"300\"/></a>\n",
    "<pre>\n",
    "<center><b><h1>Python Programming - 2101CS405</b></center>\n",
    "<center><b><h1>Lab - 1</b></center>    \n",
    "<pre>"
   ]
  },
  {
   "cell_type": "markdown",
   "metadata": {},
   "source": [
    "### 01) WAP to print “Hello World”"
   ]
  },
  {
   "cell_type": "code",
   "execution_count": 1,
   "metadata": {},
   "outputs": [
    {
     "name": "stdout",
     "output_type": "stream",
     "text": [
      "hello world\n"
     ]
    }
   ],
   "source": [
    "print (\"hello world\")"
   ]
  },
  {
   "cell_type": "markdown",
   "metadata": {},
   "source": [
    "### 02) WAP to print your address i) using single print ii) using multiple print"
   ]
  },
  {
   "cell_type": "code",
   "execution_count": 2,
   "metadata": {},
   "outputs": [
    {
     "name": "stdout",
     "output_type": "stream",
     "text": [
      "soapn-luxuria\n",
      "A-802\n",
      "jalaram chowk\n",
      "Rajkot-360007\n",
      "\n",
      "Sopan-luxuria\n",
      "A-802\n",
      "jalaram chowk\n",
      "Rajkot-360007\n"
     ]
    }
   ],
   "source": [
    "print (\"soapn-luxuria\")\n",
    "print (\"A-802\")\n",
    "print (\"jalaram chowk\")\n",
    "print (\"Rajkot-360007\")\n",
    "print (\"\\nSopan-luxuria\\nA-802\\njalaram chowk\\nRajkot-360007\")"
   ]
  },
  {
   "cell_type": "markdown",
   "metadata": {},
   "source": [
    "### 03) WAP to print addition of 2 numbers (without input function)"
   ]
  },
  {
   "cell_type": "code",
   "execution_count": 5,
   "metadata": {},
   "outputs": [
    {
     "name": "stdout",
     "output_type": "stream",
     "text": [
      "30\n"
     ]
    }
   ],
   "source": [
    "a=10\n",
    "b=20\n",
    "ans = a+b\n",
    "print (ans)"
   ]
  },
  {
   "cell_type": "markdown",
   "metadata": {},
   "source": [
    "### 04) WAP to calculate and print average of 2 numbers (without input function)"
   ]
  },
  {
   "cell_type": "code",
   "execution_count": 6,
   "metadata": {},
   "outputs": [
    {
     "name": "stdout",
     "output_type": "stream",
     "text": [
      "15.0\n"
     ]
    }
   ],
   "source": [
    "a=10;\n",
    "b=20;\n",
    "ans=(a+b)/2;\n",
    "print (ans)"
   ]
  },
  {
   "cell_type": "markdown",
   "metadata": {},
   "source": [
    "### 05) WAP to add two number entered by user."
   ]
  },
  {
   "cell_type": "code",
   "execution_count": 7,
   "metadata": {},
   "outputs": [
    {
     "name": "stdout",
     "output_type": "stream",
     "text": [
      "Enter Any Number: 5\n",
      "Enter Another Number: 4\n",
      "9\n"
     ]
    }
   ],
   "source": [
    "a=int(input(\"Enter Any Number: \"))\n",
    "b=int(input(\"Enter Another Number: \"))\n",
    "ans= (a+b)\n",
    "print (ans)"
   ]
  },
  {
   "cell_type": "markdown",
   "metadata": {},
   "source": [
    "### 06) WAP to calculate simple interest."
   ]
  },
  {
   "cell_type": "code",
   "execution_count": 8,
   "metadata": {},
   "outputs": [
    {
     "name": "stdout",
     "output_type": "stream",
     "text": [
      "Enter principal Number: 10\n",
      "Enter no. of years : 10\n",
      "Enter rate : 10\n",
      "10.0\n"
     ]
    }
   ],
   "source": [
    "a=int(input(\"Enter principal Number: \"))\n",
    "b=int(input(\"Enter no. of years : \"))\n",
    "c=int(input(\"Enter rate : \")) \n",
    "ans = ((a*b*c)/100)\n",
    "print (ans)"
   ]
  },
  {
   "cell_type": "markdown",
   "metadata": {},
   "source": [
    "### 07) WAP Calculate Area and Circumfrence of Circle"
   ]
  },
  {
   "cell_type": "code",
   "execution_count": 9,
   "metadata": {},
   "outputs": [
    {
     "name": "stdout",
     "output_type": "stream",
     "text": [
      "Value Of Pie Taken: 3.14\n",
      "Enter radius : 5\n",
      "31.400000000000002\n"
     ]
    }
   ],
   "source": [
    "print (\"Value Of Pie Taken: 3.14\")\n",
    "b=int(input(\"Enter radius : \"))\n",
    "ans = 2*3.14*b\n",
    "print (ans)"
   ]
  },
  {
   "cell_type": "markdown",
   "metadata": {},
   "source": [
    "### 08) WAP to print Multiplication table of given number without using loops."
   ]
  },
  {
   "cell_type": "code",
   "execution_count": 14,
   "metadata": {},
   "outputs": [
    {
     "name": "stdout",
     "output_type": "stream",
     "text": [
      "Enter any number : 5\n",
      "5 * 1 = 5\n",
      "5 * 2 = 10\n",
      "5 * 3 = 15\n",
      "5 * 4 = 20\n",
      "5 * 5 = 25\n",
      "5 * 6 = 30\n",
      "5 * 7 = 35\n",
      "5 * 8 = 40\n",
      "5 * 9 = 45\n",
      "5 * 10 = 50\n"
     ]
    }
   ],
   "source": [
    "a=int(input(\"Enter any number : \"))\n",
    "print (a,\"* 1\",\"=\",a*1)\n",
    "print (a,\"* 2\",\"=\",a*2)\n",
    "print (a,\"* 3\",\"=\",a*3)\n",
    "print (a,\"* 4\",\"=\",a*4)\n",
    "print (a,\"* 5\",\"=\",a*5)\n",
    "print (a,\"* 6\",\"=\",a*6)\n",
    "print (a,\"* 7\",\"=\",a*7)\n",
    "print (a,\"* 8\",\"=\",a*8)\n",
    "print (a,\"* 9\",\"=\",a*9)\n",
    "print (a,\"* 10\",\"=\",a*10)"
   ]
  },
  {
   "cell_type": "markdown",
   "metadata": {},
   "source": [
    "### 09) WAP to calculate Area of Triangle (hint: a = h * b * 0.5)"
   ]
  },
  {
   "cell_type": "code",
   "execution_count": 16,
   "metadata": {},
   "outputs": [
    {
     "name": "stdout",
     "output_type": "stream",
     "text": [
      "Enter height : 5\n",
      "Enter base : 5\n",
      "12.5\n"
     ]
    }
   ],
   "source": [
    "a=int(input(\"Enter height : \"))\n",
    "b=int(input(\"Enter base : \"))\n",
    "ans = a * b * 0.5\n",
    "print (ans)"
   ]
  },
  {
   "cell_type": "markdown",
   "metadata": {},
   "source": [
    "### 10) WAP to convert degree to Fahrenheit and vice versa."
   ]
  },
  {
   "cell_type": "code",
   "execution_count": 8,
   "metadata": {},
   "outputs": [
    {
     "name": "stdout",
     "output_type": "stream",
     "text": [
      "Enter celcius : 5\n",
      "Fahrenheit : 41.0\n",
      "Enter Fahrenheit : 45\n",
      "Celcius : 7.222222222222222\n"
     ]
    }
   ],
   "source": [
    "a=int(input(\"Enter celcius : \"))\n",
    "ans =((a*9/5)+32)\n",
    "print (\"Fahrenheit :\",ans)\n",
    "b=int(input(\"Enter Fahrenheit : \"))\n",
    "ans1=((b-32)*(5/9))\n",
    "print (\"Celcius :\",ans1)"
   ]
  },
  {
   "cell_type": "markdown",
   "metadata": {},
   "source": [
    "### 11) WAP to calculate total marks and Percentage."
   ]
  },
  {
   "cell_type": "code",
   "execution_count": 1,
   "metadata": {},
   "outputs": [
    {
     "name": "stdout",
     "output_type": "stream",
     "text": [
      "Enter Marks Of English : 50\n",
      "Enter Marks Of Maths : 50\n",
      "Enter Marks Of Hindi : 50\n",
      "Enter Marks Of Sanskrit : 50\n",
      "Toatal Percentage Got : 50.0 %\n"
     ]
    }
   ],
   "source": [
    "a=int(input(\"Enter Marks Of English : \"))\n",
    "b=int(input(\"Enter Marks Of Maths : \"))\n",
    "c=int(input(\"Enter Marks Of Hindi : \"))\n",
    "d=int(input(\"Enter Marks Of Sanskrit : \"))\n",
    "\n",
    "ans = ((a+b+c+d)*100)/400\n",
    "\n",
    "print (\"Toatal Percentage Got :\",ans,\"%\")"
   ]
  },
  {
   "cell_type": "markdown",
   "metadata": {},
   "source": [
    "### 12) Compute distance between two points taking input from the user (Pythagorean Theorem)."
   ]
  },
  {
   "cell_type": "code",
   "execution_count": 6,
   "metadata": {},
   "outputs": [
    {
     "name": "stdout",
     "output_type": "stream",
     "text": [
      "enter number: 59\n",
      "enter number: 45\n",
      "enter number: 89\n",
      "enter number: 20\n",
      "70\n"
     ]
    }
   ],
   "source": [
    "x1=int(input(\"enter number: \"))\n",
    "x2=int(input(\"enter number: \"))\n",
    "y1=int(input(\"enter number: \"))\n",
    "y2=int(input(\"enter number: \"))\n",
    "first=((x1-x2)*(x1-x2))\n",
    "second=((y1-y2)*(y1-y2))\n",
    "ans=(int(first+second))\n",
    "print(int(ans**0.5))"
   ]
  },
  {
   "cell_type": "markdown",
   "metadata": {},
   "source": [
    "### 13) WAP to convert seconds into hours, minutes & seconds and print in HH:MM:SS\n",
    "[e.g. 10000 seconds mean 2:46:40 (2 Hours, 46 Minutes, 40Seconds)]"
   ]
  },
  {
   "cell_type": "code",
   "execution_count": null,
   "metadata": {},
   "outputs": [],
   "source": [
    "seconds=int(input(\"enter number: \"))\n",
    "seconds = seconds % (24 * 3600)\n",
    "hour = seconds // 3600\n",
    "seconds %= 3600\n",
    "minutes = seconds // 60\n",
    "seconds %= 60\n",
    "\n",
    "print(\"%d:%02d:%02d\" % (hour, minutes, seconds))"
   ]
  },
  {
   "cell_type": "markdown",
   "metadata": {},
   "source": [
    "### 14) WAP to enter distance into kilometer and convert it into meter, feet,inches, and centimeter"
   ]
  },
  {
   "cell_type": "code",
   "execution_count": 16,
   "metadata": {},
   "outputs": [
    {
     "name": "stdout",
     "output_type": "stream",
     "text": [
      "Enter Distance in KM : 50\n",
      "meter 0.05\n",
      "feet 164042.0\n",
      "inches 1968505.0\n",
      "centi-meter 5000000\n"
     ]
    }
   ],
   "source": [
    "a=int(input(\"Enter Distance in KM : \"))\n",
    "m = a/1000\n",
    "f = a*3280.84\n",
    "i = a*39370.1\n",
    "cm = a*100000\n",
    "print (\"meter\",m)\n",
    "print (\"feet\",f)\n",
    "print (\"inches\",i)\n",
    "print (\"centi-meter\",cm)"
   ]
  }
 ],
 "metadata": {
  "kernelspec": {
   "display_name": "Python 3 (ipykernel)",
   "language": "python",
   "name": "python3"
  },
  "language_info": {
   "codemirror_mode": {
    "name": "ipython",
    "version": 3
   },
   "file_extension": ".py",
   "mimetype": "text/x-python",
   "name": "python",
   "nbconvert_exporter": "python",
   "pygments_lexer": "ipython3",
   "version": "3.11.5"
  },
  "vscode": {
   "interpreter": {
    "hash": "31f2aee4e71d21fbe5cf8b01ff0e069b9275f58929596ceb00d14d90e3e16cd6"
   }
  }
 },
 "nbformat": 4,
 "nbformat_minor": 4
}
