{
 "cells": [
  {
   "cell_type": "markdown",
   "metadata": {},
   "source": [
    "\n",
    "<a href='https://www.darshan.ac.in/'> <img src='https://www.darshan.ac.in/Content/media/DU_Logo.svg' width=\"250\" height=\"300\"/></a>\n",
    "<pre>\n",
    "<center><b><h1>Python Programming - 2101CS405</b></center>\n",
    "<center><b><h1>Lab - 2</b></center>    \n",
    "<pre>"
   ]
  },
  {
   "cell_type": "markdown",
   "metadata": {},
   "source": [
    "# if..else.."
   ]
  },
  {
   "cell_type": "markdown",
   "metadata": {},
   "source": [
    "### 01) WAP to check whether the given number is positive or negative."
   ]
  },
  {
   "cell_type": "code",
   "execution_count": 4,
   "metadata": {},
   "outputs": [
    {
     "name": "stdout",
     "output_type": "stream",
     "text": [
      "Enter A Number: -5\n",
      "-5 Is Negative\n"
     ]
    }
   ],
   "source": [
    "a = int(input(\"Enter A Number: \"))\n",
    "if(a>0):\n",
    "        print(a,\"Is Positive\")\n",
    "else:\n",
    "        print(a,\"Is Negative\")        "
   ]
  },
  {
   "cell_type": "markdown",
   "metadata": {},
   "source": [
    "### 02) WAP to check whether the given number is odd or even"
   ]
  },
  {
   "cell_type": "code",
   "execution_count": 6,
   "metadata": {},
   "outputs": [
    {
     "name": "stdout",
     "output_type": "stream",
     "text": [
      "Enter A Number: 6\n",
      "6 Is Even\n"
     ]
    }
   ],
   "source": [
    "a = int(input(\"Enter A Number: \"))\n",
    "if(a%2==0):\n",
    "        print(a,\"Is Even\")\n",
    "else:\n",
    "        print(a,\"Is Odd\")  "
   ]
  },
  {
   "cell_type": "markdown",
   "metadata": {},
   "source": [
    "### 03) WAP to find out largest number from given two numbers using simple if and ternary operator."
   ]
  },
  {
   "cell_type": "code",
   "execution_count": 7,
   "metadata": {},
   "outputs": [
    {
     "name": "stdout",
     "output_type": "stream",
     "text": [
      "Enter A Number: 8\n",
      "Enter Another Number: 4\n",
      "8 Is Bigger Number\n"
     ]
    }
   ],
   "source": [
    "a = int(input(\"Enter A Number: \"))\n",
    "b = int(input(\"Enter Another Number: \"))\n",
    "print(a,\"Is Bigger Number\") if(a>b) else print(b,\"Is Bigger Number\")"
   ]
  },
  {
   "cell_type": "markdown",
   "metadata": {},
   "source": [
    "### 04) WAP to find out largest number from given three numbers."
   ]
  },
  {
   "cell_type": "code",
   "execution_count": 9,
   "metadata": {},
   "outputs": [
    {
     "name": "stdout",
     "output_type": "stream",
     "text": [
      "Enter A Number: 20\n",
      "Enter Next Number: 40\n",
      "Enter Other Number: 10\n",
      "40 Is Largest Number\n"
     ]
    }
   ],
   "source": [
    "a = int(input(\"Enter A Number: \"))\n",
    "b = int(input(\"Enter Next Number: \"))\n",
    "c = int(input(\"Enter Other Number: \"))\n",
    "\n",
    "if(a>b):\n",
    "    if(a>c):\n",
    "        print(a,\"Is Largest Number\")\n",
    "    else:\n",
    "        print(c,\"Is Largest Number\")\n",
    "if(b>a):\n",
    "    if(b>c):\n",
    "        print(b,\"Is Largest Number\")\n",
    "    else:\n",
    "        print(c,\"Is Largest Number\")"
   ]
  },
  {
   "cell_type": "markdown",
   "metadata": {},
   "source": [
    "### 05) WAP to check whether the given year is leap year or not.\n",
    "[If a year can be divisible by 4 but not divisible by 100 then it is leap year but if it is divisible by 400 then it is leap year]"
   ]
  },
  {
   "cell_type": "code",
   "execution_count": 11,
   "metadata": {},
   "outputs": [
    {
     "name": "stdout",
     "output_type": "stream",
     "text": [
      "Enter Year: 3000\n",
      "3000 Is Not A Leap Year\n"
     ]
    }
   ],
   "source": [
    "a = int(input(\"Enter Year: \"))\n",
    "if(a%4==0 and a%100!=0 or a%400==0):\n",
    "    print(a,\"Is Leap Year\")\n",
    "else:\n",
    "    print(a,\"Is Not A Leap Year\")"
   ]
  },
  {
   "cell_type": "markdown",
   "metadata": {},
   "source": [
    "### 06) WAP in python to display the name of the day according to the number given by the user"
   ]
  },
  {
   "cell_type": "code",
   "execution_count": 12,
   "metadata": {},
   "outputs": [
    {
     "name": "stdout",
     "output_type": "stream",
     "text": [
      "Enter A Number Of Week: 5\n",
      "Day Is Friday\n"
     ]
    }
   ],
   "source": [
    "a = int(input(\"Enter A Number Of Week: \"))\n",
    "\n",
    "if(a==1):\n",
    "    print(\"Day Is Monday\")\n",
    "elif(a==2):\n",
    "    print(\"Day Is Tuesday\")\n",
    "elif(a==3):\n",
    "    print(\"Day Is Wednesday\")\n",
    "elif(a==4):\n",
    "    print(\"Day Is Thursday\")\n",
    "elif(a==5):\n",
    "    print(\"Day Is Friday\")\n",
    "elif(a==6):\n",
    "    print(\"Day Is Saturday\")\n",
    "elif(a==7):\n",
    "    print(\"Day Is Sunday\")\n",
    "else:\n",
    "    print(\"Invalid Input\")\n",
    "    \n"
   ]
  },
  {
   "cell_type": "markdown",
   "metadata": {},
   "source": [
    "### 07) WAP to implement simple calculator which performs (add,sub,mul,div) of two no. based on user input."
   ]
  },
  {
   "cell_type": "code",
   "execution_count": 20,
   "metadata": {},
   "outputs": [
    {
     "name": "stdout",
     "output_type": "stream",
     "text": [
      "\n",
      "1.Addition\n",
      "2.Subtraction\n",
      "3.Multiplication\n",
      "4.Division\n",
      "Enter Your Choice: 2\n",
      "Enter Any Number: 60\n",
      "Enter Another Number: 9\n",
      "Subtracted Value:  51\n"
     ]
    }
   ],
   "source": [
    "a = int(input(\"\\n1.Addition\\n2.Subtraction\\n3.Multiplication\\n4.Division\\nEnter Your Choice: \"))\n",
    "b = int(input(\"Enter Any Number: \"))\n",
    "c = int(input(\"Enter Another Number: \"))\n",
    "if(a==1):\n",
    "    print(\"Added Value: \",b+c)\n",
    "elif(a==2):\n",
    "    print(\"Subtracted Value: \",b-c)\n",
    "elif(a==3):\n",
    "    print(\"Multiplicated Value: \",b*c)\n",
    "elif(a==4):\n",
    "    print(\"Divided Value: \",b/c)\n",
    "else:\n",
    "    print(\"Invalid Input\")"
   ]
  },
  {
   "cell_type": "markdown",
   "metadata": {},
   "source": [
    "### 08) WAP to calculate electricity bill based on following criteria. Which takes the unit from the user.\n",
    "a. First 1 to 50 units – Rs. 2.60/unit</br>\n",
    "b. Next 50 to 100 units – Rs. 3.25/unit</br>\n",
    "c. Next 100 to 200 units – Rs. 5.26/unit</br>\n",
    "d. above 200 units – Rs. 8.45/unit"
   ]
  },
  {
   "cell_type": "code",
   "execution_count": null,
   "metadata": {},
   "outputs": [],
   "source": [
    "a =int(input(\"please enter the number of units you consumed in a month :\"))\n",
    "if(a<=50):\n",
    "    payAmount=a*2.60\n",
    "elif(a<=100):\n",
    "    payAmount=(50*2.60)+(a-50)*3.25\n",
    "elif(a<=200):\n",
    "    payAmount=(50*2.60)+(100-50)*3.25+(a-100)*5.26\n",
    "elif(a>200):\n",
    "    payAmount=(50*2.60)+(100-50)*3.25+(200-100)*5.26+(a-200)*8.45\n",
    "\n",
    "Total=payAmount\n",
    "print(\"Total Bill = \",Total)"
   ]
  },
  {
   "cell_type": "markdown",
   "metadata": {},
   "source": [
    "### 01) WAP to read marks of five subjects. Calculate percentage and print class accordingly. \n",
    "Fail below 35 </br>\n",
    "Pass Class between 35 to 45 </br>\n",
    "Second Class</br>\n",
    "between 45 to 60</br>\n",
    "First Class between 60 to 70</br> \n",
    "Distinction if more than 70"
   ]
  },
  {
   "cell_type": "code",
   "execution_count": 29,
   "metadata": {},
   "outputs": [
    {
     "name": "stdout",
     "output_type": "stream",
     "text": [
      "Enter Marks Of Maths: 60\n",
      "Enter Marks Of English: 60\n",
      "Enter Marks Of Sanskrit: 60\n",
      "Enter Marks Of Hindi: 60\n",
      "Enter Marks Of Gujarati: 60\n",
      "Passes With First Class\n"
     ]
    }
   ],
   "source": [
    "a = int(input(\"Enter Marks Of Maths: \"))\n",
    "b = int(input(\"Enter Marks Of English: \"))\n",
    "c = int(input(\"Enter Marks Of Sanskrit: \"))\n",
    "d = int(input(\"Enter Marks Of Hindi: \"))\n",
    "e = int(input(\"Enter Marks Of Gujarati: \"))\n",
    "ans = ((a+b+c+d+e)*100)/500\n",
    "if(ans<35):\n",
    "    print(\"Failed\")\n",
    "elif(ans>=35 and ans<45):\n",
    "    print(\"Passes With Pass Class\")\n",
    "elif(ans>=45 and ans<60):\n",
    "    print(\"Passes With Second Class\")\n",
    "elif(ans>=60 and ans<70):\n",
    "    print(\"Passes With First Class\")\n",
    "elif(ans>=70):\n",
    "    print(\"Passes With DisTinction\")"
   ]
  },
  {
   "cell_type": "markdown",
   "metadata": {},
   "source": [
    "### 02) WAP to find out the Maximum and Minimum number from given 4 numbers."
   ]
  },
  {
   "cell_type": "code",
   "execution_count": 28,
   "metadata": {},
   "outputs": [
    {
     "name": "stdout",
     "output_type": "stream",
     "text": [
      "Enter Number: 5\n",
      "Enter Number: 8\n",
      "Enter Number: 9\n",
      "Enter Number: 2\n",
      "9 Is Largest\n",
      "2 Is Smallest\n"
     ]
    }
   ],
   "source": [
    "a=int(input(\"Enter Number: \"));\n",
    "b=int(input(\"Enter Number: \"));\n",
    "c=int(input(\"Enter Number: \"));\n",
    "d=int(input(\"Enter Number: \"));\n",
    "if(a>b and a>c and a>d):\n",
    "    print(a,\"Is Largest\")\n",
    "elif(b>a and b>c and b>d):\n",
    "    print(b,\"Is Largest\")\n",
    "elif(c>a and c>b and c>d):\n",
    "    print(c,\"Is Largest\")\n",
    "else:\n",
    "    print(d,\"Is Largest\")\n",
    "\n",
    "if(a<b and a<c and a<d):\n",
    "    print(a,\"Is Smallest\")\n",
    "elif(b<a and b<c and b<d):\n",
    "    print(b,\"Is Smallest\")\n",
    "elif(c<a and c<b and c<d):\n",
    "    print(c,\"Is Smallest\")\n",
    "else:\n",
    "    print(d,\"Is Smallest\")"
   ]
  },
  {
   "cell_type": "markdown",
   "metadata": {},
   "source": [
    "### 03) WAP to input an integer number and check the last digit of number is even or odd."
   ]
  },
  {
   "cell_type": "code",
   "execution_count": 15,
   "metadata": {},
   "outputs": [
    {
     "name": "stdout",
     "output_type": "stream",
     "text": [
      "Enter :21\n",
      "Odd\n"
     ]
    }
   ],
   "source": [
    "num = input(\"Enter :\")\n",
    "last = num[-1]\n",
    "final = int(last)\n",
    "if(final%2==0):\n",
    "    print(\"Even\")\n",
    "else:\n",
    "    print(\"Odd\")"
   ]
  },
  {
   "cell_type": "markdown",
   "metadata": {},
   "source": [
    "### 04) WAP to determine the roots of the equation ax2+bx+c=0."
   ]
  },
  {
   "cell_type": "code",
   "execution_count": 17,
   "metadata": {},
   "outputs": [
    {
     "name": "stdout",
     "output_type": "stream",
     "text": [
      "Enter Number:9\n",
      "Enter Number:9\n",
      "Enter Number:9\n",
      "(-9+0.8660254037844387j)\n",
      "(-9-0.8660254037844387j)\n",
      "Imagenary\n"
     ]
    }
   ],
   "source": [
    "a=int(input(\"Enter Number:\"))\n",
    "b=int(input(\"Enter Number:\"))\n",
    "c=int(input(\"Enter Number:\"))\n",
    "e=4\n",
    "d=(b*b)-e*a*c\n",
    "k=(d**0.5)\n",
    "x=(-b+k/(2*a))\n",
    "X=(-b-k/(2*a))\n",
    "print(x)\n",
    "print(X)\n",
    "if(d>0):\n",
    "    print(\"Real Root\")\n",
    "elif(d==0):\n",
    "    print(\"Same Root\")\n",
    "elif(d<0):\n",
    "    print(\"Imagenary\")"
   ]
  }
 ],
 "metadata": {
  "kernelspec": {
   "display_name": "Python 3 (ipykernel)",
   "language": "python",
   "name": "python3"
  },
  "language_info": {
   "codemirror_mode": {
    "name": "ipython",
    "version": 3
   },
   "file_extension": ".py",
   "mimetype": "text/x-python",
   "name": "python",
   "nbconvert_exporter": "python",
   "pygments_lexer": "ipython3",
   "version": "3.11.5"
  }
 },
 "nbformat": 4,
 "nbformat_minor": 4
}
